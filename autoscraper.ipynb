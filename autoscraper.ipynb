{
  "nbformat": 4,
  "nbformat_minor": 0,
  "metadata": {
    "colab": {
      "name": "autoscraper.ipynb",
      "provenance": [],
      "authorship_tag": "ABX9TyPqOzDuDbsmnu7v8XonyPFf",
      "include_colab_link": true
    },
    "kernelspec": {
      "name": "python3",
      "display_name": "Python 3"
    },
    "language_info": {
      "name": "python"
    }
  },
  "cells": [
    {
      "cell_type": "markdown",
      "metadata": {
        "id": "view-in-github",
        "colab_type": "text"
      },
      "source": [
        "<a href=\"https://colab.research.google.com/github/naashonomics/pylib_collab/blob/main/autoscraper.ipynb\" target=\"_parent\"><img src=\"https://colab.research.google.com/assets/colab-badge.svg\" alt=\"Open In Colab\"/></a>"
      ]
    },
    {
      "cell_type": "code",
      "metadata": {
        "colab": {
          "base_uri": "https://localhost:8080/"
        },
        "id": "RocZcfN7G-dp",
        "outputId": "c0e8581d-1a34-47fa-98af-2a9a60fd6764"
      },
      "source": [
        "!pip install autoscraper"
      ],
      "execution_count": 1,
      "outputs": [
        {
          "output_type": "stream",
          "text": [
            "Collecting autoscraper\n",
            "  Downloading https://files.pythonhosted.org/packages/50/44/553afbb7624aaa16e71546196c1f3beb170dd555a2822785889a9da5c2e7/autoscraper-1.1.12-py3-none-any.whl\n",
            "Requirement already satisfied: requests in /usr/local/lib/python3.7/dist-packages (from autoscraper) (2.23.0)\n",
            "Requirement already satisfied: lxml in /usr/local/lib/python3.7/dist-packages (from autoscraper) (4.2.6)\n",
            "Requirement already satisfied: bs4 in /usr/local/lib/python3.7/dist-packages (from autoscraper) (0.0.1)\n",
            "Requirement already satisfied: certifi>=2017.4.17 in /usr/local/lib/python3.7/dist-packages (from requests->autoscraper) (2020.12.5)\n",
            "Requirement already satisfied: idna<3,>=2.5 in /usr/local/lib/python3.7/dist-packages (from requests->autoscraper) (2.10)\n",
            "Requirement already satisfied: chardet<4,>=3.0.2 in /usr/local/lib/python3.7/dist-packages (from requests->autoscraper) (3.0.4)\n",
            "Requirement already satisfied: urllib3!=1.25.0,!=1.25.1,<1.26,>=1.21.1 in /usr/local/lib/python3.7/dist-packages (from requests->autoscraper) (1.24.3)\n",
            "Requirement already satisfied: beautifulsoup4 in /usr/local/lib/python3.7/dist-packages (from bs4->autoscraper) (4.6.3)\n",
            "Installing collected packages: autoscraper\n",
            "Successfully installed autoscraper-1.1.12\n"
          ],
          "name": "stdout"
        }
      ]
    },
    {
      "cell_type": "code",
      "metadata": {
        "id": "Tp-uo2W_HRIL"
      },
      "source": [
        "\n",
        "from autoscraper import AutoScraper \n",
        "amazon_url=\"https://www.amazon.in/s?k=smartphone\"\n",
        "wanted_list=[\"₹14,999\",\"184,451\",\"Samsung Galaxy M31 (Ocean Blue, 6GB RAM, 128GB Storage)\"]"
      ],
      "execution_count": 22,
      "outputs": []
    },
    {
      "cell_type": "code",
      "metadata": {
        "colab": {
          "base_uri": "https://localhost:8080/"
        },
        "id": "sxz4dgU1Ie9x",
        "outputId": "fb6b6150-8f3a-4c56-e5bd-28741fe6fe10"
      },
      "source": [
        "scraper = AutoScraper()\n",
        "result = scraper.build(amazon_url, wanted_list)\n",
        "print(result)"
      ],
      "execution_count": 23,
      "outputs": [
        {
          "output_type": "stream",
          "text": [
            "['₹8,799', '₹10,999', '₹14,999', '₹19,999', '₹6,999', '₹8,499', '₹12,999', '₹10,990', '₹15,990', '₹7,490', '₹9,990', '₹8,999', '₹12,499', '₹15,499', '₹15,999', '₹21,999', '₹24,999', '₹7,499', '₹9,499', '₹14,499', '₹17,999', '₹19,990', '₹27,990', '38,789', '184,451', '59,470', '43,344', '14,147', '12,347', '2,164', '3,918', '1,374', '131,885', '916', '22,957', 'Redmi 9 (Sky Blue, 4GB RAM, 64GB Storage)| 5000 mAh| 2.3GHz Mediatek Helio G35 Octa core Processor', 'Samsung Galaxy M31 (Ocean Blue, 6GB RAM, 128GB Storage)', 'Redmi Note 9 (Pebble Grey, 4GB RAM 64GB Storage) - 48MP Quad Camera & Full HD+ Display', 'Redmi 9A (Nature Green, 2GB RAM, 32GB Storage) | 2GHz Octa-core Helio G25 Processor | 5000 mAh Battery', 'Samsung Galaxy M12 (Blue,4GB RAM, 64GB Storage) 6000 mAh with 8nm Processor | True 48 MP Quad Camera | 90Hz Refresh Rate', 'Redmi 9 (Carbon Black, 4GB RAM, 64GB Storage) | 5000 mAh| 2.3GHz Mediatek Helio G35 Octa core Processor', 'Oppo A31 (Fantasy White, 6GB RAM, 128GB Storage) with No Cost EMI/Additional Exchange Offers', 'Vivo Y91i (Fusion Black, 2GB RAM, 32GB Storage) with No Cost EMI/Additional Exchange Offers', 'Vivo Y91i (Ocean Blue, 2GB RAM, 32GB Storage) with No Cost EMI/Additional Exchange Offers', 'Samsung Galaxy M11 (Metallic Blue, 4GB RAM, 64GB Storage) with No Cost EMI/Additional Exchange Offers', 'Samsung Galaxy M12 (Blue,6GB RAM, 128GB Storage) 6000 mAh with 8nm Processor | True 48 MP Quad Camera | 90Hz Refresh Rate', 'Samsung Galaxy M21 (Midnight Blue, 4GB RAM, 64GB Storage)', 'Redmi 9A (Sea Blue 2GB RAM 32GB Storage) | 2GHz Octa-core Helio G25 Processor | 5000 mAh Battery', 'Samsung Galaxy M42 5G (Prism Dot Gray, 6GB RAM, 128GB Storage)', 'Redmi 9A(Midnight Black 3GB RAM 32GB Storage) | 2GHz Octa-core Helio G25 Processor | 5000 mAh Battery', 'Redmi Note 10 (Shadow Black, 6GB RAM, 128GB Storage)']\n"
          ],
          "name": "stdout"
        }
      ]
    },
    {
      "cell_type": "code",
      "metadata": {
        "colab": {
          "base_uri": "https://localhost:8080/"
        },
        "id": "oODWqOiBLhtW",
        "outputId": "9be90d39-5c52-4a6b-ac7c-12a86892f18b"
      },
      "source": [
        "scraper.get_result_similar(\"https://www.amazon.in/s?k=smartphone\",grouped=True)"
      ],
      "execution_count": 24,
      "outputs": [
        {
          "output_type": "execute_result",
          "data": {
            "text/plain": [
              "{'rule_3v89': ['₹8,799',\n",
              "  '₹10,999',\n",
              "  '₹14,999',\n",
              "  '₹19,999',\n",
              "  '₹10,999',\n",
              "  '₹14,999',\n",
              "  '₹6,999',\n",
              "  '₹8,499',\n",
              "  '₹10,999',\n",
              "  '₹12,999',\n",
              "  '₹8,799',\n",
              "  '₹10,999',\n",
              "  '₹10,990',\n",
              "  '₹15,990',\n",
              "  '₹7,490',\n",
              "  '₹9,990',\n",
              "  '₹7,490',\n",
              "  '₹9,990',\n",
              "  '₹8,999',\n",
              "  '₹14,999',\n",
              "  '₹12,499',\n",
              "  '₹15,499',\n",
              "  '₹12,499',\n",
              "  '₹15,999',\n",
              "  '₹6,999',\n",
              "  '₹8,499',\n",
              "  '₹21,999',\n",
              "  '₹24,999',\n",
              "  '₹7,499',\n",
              "  '₹9,499',\n",
              "  '₹14,499',\n",
              "  '₹17,999'],\n",
              " 'rule_61mv': ['₹8,799',\n",
              "  '₹10,999',\n",
              "  '₹14,999',\n",
              "  '₹19,999',\n",
              "  '₹10,999',\n",
              "  '₹14,999',\n",
              "  '₹6,999',\n",
              "  '₹8,499',\n",
              "  '₹10,999',\n",
              "  '₹12,999',\n",
              "  '₹8,799',\n",
              "  '₹10,999',\n",
              "  '₹10,990',\n",
              "  '₹15,990',\n",
              "  '₹7,490',\n",
              "  '₹9,990',\n",
              "  '₹7,490',\n",
              "  '₹9,990',\n",
              "  '₹8,999',\n",
              "  '₹14,999',\n",
              "  '₹12,499',\n",
              "  '₹15,499',\n",
              "  '₹12,499',\n",
              "  '₹15,999',\n",
              "  '₹6,999',\n",
              "  '₹8,499',\n",
              "  '₹21,999',\n",
              "  '₹24,999',\n",
              "  '₹7,499',\n",
              "  '₹9,499',\n",
              "  '₹14,499',\n",
              "  '₹17,999'],\n",
              " 'rule_78rh': ['38,789',\n",
              "  '184,451',\n",
              "  '59,470',\n",
              "  '43,344',\n",
              "  '14,147',\n",
              "  '38,789',\n",
              "  '12,347',\n",
              "  '2,164',\n",
              "  '3,918',\n",
              "  '1,374',\n",
              "  '14,147',\n",
              "  '131,885',\n",
              "  '43,344',\n",
              "  '916',\n",
              "  '43,344',\n",
              "  '22,957'],\n",
              " 'rule_b477': ['₹8,799',\n",
              "  '₹10,999',\n",
              "  '₹14,999',\n",
              "  '₹19,999',\n",
              "  '₹10,999',\n",
              "  '₹14,999',\n",
              "  '₹6,999',\n",
              "  '₹8,499',\n",
              "  '₹10,999',\n",
              "  '₹12,999',\n",
              "  '₹8,799',\n",
              "  '₹10,999',\n",
              "  '₹10,990',\n",
              "  '₹15,990',\n",
              "  '₹7,490',\n",
              "  '₹9,990',\n",
              "  '₹7,490',\n",
              "  '₹9,990',\n",
              "  '₹8,999',\n",
              "  '₹14,999',\n",
              "  '₹12,499',\n",
              "  '₹15,499',\n",
              "  '₹12,499',\n",
              "  '₹15,999',\n",
              "  '₹6,999',\n",
              "  '₹8,499',\n",
              "  '₹21,999',\n",
              "  '₹24,999',\n",
              "  '₹7,499',\n",
              "  '₹9,499',\n",
              "  '₹14,499',\n",
              "  '₹17,999'],\n",
              " 'rule_b9pp': ['Redmi 9 (Sky Blue, 4GB RAM, 64GB Storage)| 5000 mAh| 2.3GHz Mediatek Helio G35 Octa core Processor',\n",
              "  'Samsung Galaxy M31 (Ocean Blue, 6GB RAM, 128GB Storage)',\n",
              "  'Redmi Note 9 (Pebble Grey, 4GB RAM 64GB Storage) - 48MP Quad Camera & Full HD+ Display',\n",
              "  'Redmi 9A (Nature Green, 2GB RAM, 32GB Storage) | 2GHz Octa-core Helio G25 Processor | 5000 mAh Battery',\n",
              "  'Samsung Galaxy M12 (Blue,4GB RAM, 64GB Storage) 6000 mAh with 8nm Processor | True 48 MP Quad Camera | 90Hz Refresh Rate',\n",
              "  'Redmi 9 (Carbon Black, 4GB RAM, 64GB Storage) | 5000 mAh| 2.3GHz Mediatek Helio G35 Octa core Processor',\n",
              "  'Oppo A31 (Fantasy White, 6GB RAM, 128GB Storage) with No Cost EMI/Additional Exchange Offers',\n",
              "  'Vivo Y91i (Fusion Black, 2GB RAM, 32GB Storage) with No Cost EMI/Additional Exchange Offers',\n",
              "  'Vivo Y91i (Ocean Blue, 2GB RAM, 32GB Storage) with No Cost EMI/Additional Exchange Offers',\n",
              "  'Samsung Galaxy M11 (Metallic Blue, 4GB RAM, 64GB Storage) with No Cost EMI/Additional Exchange Offers',\n",
              "  'Samsung Galaxy M12 (Blue,6GB RAM, 128GB Storage) 6000 mAh with 8nm Processor | True 48 MP Quad Camera | 90Hz Refresh Rate',\n",
              "  'Samsung Galaxy M21 (Midnight Blue, 4GB RAM, 64GB Storage)',\n",
              "  'Redmi 9A (Sea Blue 2GB RAM 32GB Storage) | 2GHz Octa-core Helio G25 Processor | 5000 mAh Battery',\n",
              "  'Samsung Galaxy M42 5G (Prism Dot Gray, 6GB RAM, 128GB Storage)',\n",
              "  'Redmi 9A(Midnight Black 3GB RAM 32GB Storage) | 2GHz Octa-core Helio G25 Processor | 5000 mAh Battery',\n",
              "  'Redmi Note 10 (Shadow Black, 6GB RAM, 128GB Storage)'],\n",
              " 'rule_d5m4': ['₹8,799',\n",
              "  '₹10,999',\n",
              "  '₹14,999',\n",
              "  '₹19,999',\n",
              "  '₹10,999',\n",
              "  '₹14,999',\n",
              "  '₹6,999',\n",
              "  '₹8,499',\n",
              "  '₹10,999',\n",
              "  '₹12,999',\n",
              "  '₹8,799',\n",
              "  '₹10,999',\n",
              "  '₹10,990',\n",
              "  '₹15,990',\n",
              "  '₹7,490',\n",
              "  '₹9,990',\n",
              "  '₹7,490',\n",
              "  '₹9,990',\n",
              "  '₹8,999',\n",
              "  '₹14,999',\n",
              "  '₹12,499',\n",
              "  '₹15,499',\n",
              "  '₹12,499',\n",
              "  '₹15,999',\n",
              "  '₹6,999',\n",
              "  '₹8,499',\n",
              "  '₹21,999',\n",
              "  '₹24,999',\n",
              "  '₹7,499',\n",
              "  '₹9,499',\n",
              "  '₹14,499',\n",
              "  '₹17,999'],\n",
              " 'rule_g2vj': ['₹8,799',\n",
              "  '₹10,999',\n",
              "  '₹14,999',\n",
              "  '₹19,999',\n",
              "  '₹10,999',\n",
              "  '₹14,999',\n",
              "  '₹6,999',\n",
              "  '₹8,499',\n",
              "  '₹10,999',\n",
              "  '₹12,999',\n",
              "  '₹8,799',\n",
              "  '₹10,999',\n",
              "  '₹10,990',\n",
              "  '₹15,990',\n",
              "  '₹7,490',\n",
              "  '₹9,990',\n",
              "  '₹7,490',\n",
              "  '₹9,990',\n",
              "  '₹8,999',\n",
              "  '₹14,999',\n",
              "  '₹12,499',\n",
              "  '₹15,499',\n",
              "  '₹12,499',\n",
              "  '₹15,999',\n",
              "  '₹6,999',\n",
              "  '₹8,499',\n",
              "  '₹21,999',\n",
              "  '₹24,999',\n",
              "  '₹7,499',\n",
              "  '₹9,499',\n",
              "  '₹14,499',\n",
              "  '₹17,999'],\n",
              " 'rule_hxei': ['Redmi 9 (Sky Blue, 4GB RAM, 64GB Storage)| 5000 mAh| 2.3GHz Mediatek Helio G35 Octa core Processor',\n",
              "  'Samsung Galaxy M31 (Ocean Blue, 6GB RAM, 128GB Storage)',\n",
              "  'Redmi Note 9 (Pebble Grey, 4GB RAM 64GB Storage) - 48MP Quad Camera & Full HD+ Display',\n",
              "  'Redmi 9A (Nature Green, 2GB RAM, 32GB Storage) | 2GHz Octa-core Helio G25 Processor | 5000 mAh Battery',\n",
              "  'Samsung Galaxy M12 (Blue,4GB RAM, 64GB Storage) 6000 mAh with 8nm Processor | True 48 MP Quad Camera | 90Hz Refresh Rate',\n",
              "  'Redmi 9 (Carbon Black, 4GB RAM, 64GB Storage) | 5000 mAh| 2.3GHz Mediatek Helio G35 Octa core Processor',\n",
              "  'Oppo A31 (Fantasy White, 6GB RAM, 128GB Storage) with No Cost EMI/Additional Exchange Offers',\n",
              "  'Vivo Y91i (Fusion Black, 2GB RAM, 32GB Storage) with No Cost EMI/Additional Exchange Offers',\n",
              "  'Vivo Y91i (Ocean Blue, 2GB RAM, 32GB Storage) with No Cost EMI/Additional Exchange Offers',\n",
              "  'Samsung Galaxy M11 (Metallic Blue, 4GB RAM, 64GB Storage) with No Cost EMI/Additional Exchange Offers',\n",
              "  'Samsung Galaxy M12 (Blue,6GB RAM, 128GB Storage) 6000 mAh with 8nm Processor | True 48 MP Quad Camera | 90Hz Refresh Rate',\n",
              "  'Samsung Galaxy M21 (Midnight Blue, 4GB RAM, 64GB Storage)',\n",
              "  'Redmi 9A (Sea Blue 2GB RAM 32GB Storage) | 2GHz Octa-core Helio G25 Processor | 5000 mAh Battery',\n",
              "  'Samsung Galaxy M42 5G (Prism Dot Gray, 6GB RAM, 128GB Storage)',\n",
              "  'Redmi 9A(Midnight Black 3GB RAM 32GB Storage) | 2GHz Octa-core Helio G25 Processor | 5000 mAh Battery',\n",
              "  'Redmi Note 10 (Shadow Black, 6GB RAM, 128GB Storage)'],\n",
              " 'rule_i62b': ['₹12,499',\n",
              "  '₹15,999',\n",
              "  '₹10,999',\n",
              "  '₹14,999',\n",
              "  '₹19,990',\n",
              "  '₹27,990'],\n",
              " 'rule_jd19': ['₹12,499',\n",
              "  '₹15,999',\n",
              "  '₹10,999',\n",
              "  '₹14,999',\n",
              "  '₹19,990',\n",
              "  '₹27,990'],\n",
              " 'rule_xfjh': ['₹8,799',\n",
              "  '₹10,999',\n",
              "  '₹14,999',\n",
              "  '₹19,999',\n",
              "  '₹10,999',\n",
              "  '₹14,999',\n",
              "  '₹6,999',\n",
              "  '₹8,499',\n",
              "  '₹10,999',\n",
              "  '₹12,999',\n",
              "  '₹8,799',\n",
              "  '₹10,999',\n",
              "  '₹10,990',\n",
              "  '₹15,990',\n",
              "  '₹7,490',\n",
              "  '₹9,990',\n",
              "  '₹7,490',\n",
              "  '₹9,990',\n",
              "  '₹8,999',\n",
              "  '₹14,999',\n",
              "  '₹12,499',\n",
              "  '₹15,499',\n",
              "  '₹12,499',\n",
              "  '₹15,999',\n",
              "  '₹6,999',\n",
              "  '₹8,499',\n",
              "  '₹21,999',\n",
              "  '₹24,999',\n",
              "  '₹7,499',\n",
              "  '₹9,499',\n",
              "  '₹14,499',\n",
              "  '₹17,999']}"
            ]
          },
          "metadata": {
            "tags": []
          },
          "execution_count": 24
        }
      ]
    },
    {
      "cell_type": "code",
      "metadata": {
        "id": "6dOQuXQdMR4b"
      },
      "source": [
        "scraper.set_rule_aliases({'rule_3v89': 'price', 'rule_78rh': 'ratings','rule_b9pp':'Title'})\n",
        "scraper.keep_rules(['rule_3v89', 'rule_78rh','rule_b9pp'])\n",
        "scraper.save('amzn-india-search')"
      ],
      "execution_count": 25,
      "outputs": []
    },
    {
      "cell_type": "code",
      "metadata": {
        "id": "9b4f7pOhNcW0"
      },
      "source": [
        "scraper.load('amzn-india-search')"
      ],
      "execution_count": 26,
      "outputs": []
    },
    {
      "cell_type": "code",
      "metadata": {
        "id": "iTc06lrQN7tE"
      },
      "source": [
        "\n",
        "result=scraper.get_result_similar(\"https://www.amazon.in/s?k=iphone\",group_by_alias=True)"
      ],
      "execution_count": 27,
      "outputs": []
    },
    {
      "cell_type": "code",
      "metadata": {
        "colab": {
          "base_uri": "https://localhost:8080/"
        },
        "id": "YmJDIGMON7v7",
        "outputId": "15b5be49-616f-47ef-f716-b7316c77a5af"
      },
      "source": [
        "result['Title']"
      ],
      "execution_count": 31,
      "outputs": [
        {
          "output_type": "execute_result",
          "data": {
            "text/plain": [
              "['New Apple iPhone 12 Mini (64GB) - Black',\n",
              " 'New Apple iPhone 12 Mini (128GB) - White',\n",
              " 'New Apple iPhone 12 (128GB) - Blue',\n",
              " 'New Apple iPhone 11 (64GB) - Green',\n",
              " 'New Apple iPhone 12 Mini (128GB) - Black',\n",
              " 'New Apple iPhone 12 (128GB) - Black',\n",
              " 'New Apple iPhone 11 (128GB) - Green',\n",
              " 'New Apple iPhone 12 Pro Max (128GB) - Pacific Blue',\n",
              " 'New Apple iPhone 11 (64GB) - Yellow',\n",
              " 'Apple iPhone 11 Pro Max (256GB) - Midnight Green',\n",
              " 'New Apple iPhone 12 Mini (64GB) - White',\n",
              " 'Apple iPhone 11 Pro Max (64GB) - Midnight Green',\n",
              " 'Apple iPhone 11 Pro (64GB) - Space Grey',\n",
              " 'Apple iPhone 11 Pro Max (256GB) - Gold',\n",
              " 'New Apple iPhone 12 (128GB) - White',\n",
              " 'New Apple iPhone 12 Mini (64GB) - Blue']"
            ]
          },
          "metadata": {
            "tags": []
          },
          "execution_count": 31
        }
      ]
    },
    {
      "cell_type": "code",
      "metadata": {
        "colab": {
          "base_uri": "https://localhost:8080/"
        },
        "id": "TaU5IEUaMR_V",
        "outputId": "b3853803-b3d1-48be-8b22-581314bc8b57"
      },
      "source": [
        "result['ratings']"
      ],
      "execution_count": 32,
      "outputs": [
        {
          "output_type": "execute_result",
          "data": {
            "text/plain": [
              "['3,568',\n",
              " '3,568',\n",
              " '2,428',\n",
              " '26,001',\n",
              " '3,568',\n",
              " '2,428',\n",
              " '26,001',\n",
              " '597',\n",
              " '26,001',\n",
              " '848',\n",
              " '3,568',\n",
              " '848',\n",
              " '963',\n",
              " '848',\n",
              " '2,428',\n",
              " '3,568']"
            ]
          },
          "metadata": {
            "tags": []
          },
          "execution_count": 32
        }
      ]
    },
    {
      "cell_type": "code",
      "metadata": {
        "colab": {
          "base_uri": "https://localhost:8080/"
        },
        "id": "rWo-u3TFOklH",
        "outputId": "eb931949-0196-42c6-d14a-8049b4da00f0"
      },
      "source": [
        "result['price']"
      ],
      "execution_count": 33,
      "outputs": [
        {
          "output_type": "execute_result",
          "data": {
            "text/plain": [
              "['₹58,999',\n",
              " '₹69,900',\n",
              " '₹62,999',\n",
              " '₹74,900',\n",
              " '₹77,900',\n",
              " '₹84,900',\n",
              " '₹53,250',\n",
              " '₹54,900',\n",
              " '₹63,999',\n",
              " '₹74,900',\n",
              " '₹77,900',\n",
              " '₹84,900',\n",
              " '₹59,900',\n",
              " '₹1,24,700',\n",
              " '₹1,29,900',\n",
              " '₹53,250',\n",
              " '₹54,900',\n",
              " '₹92,900',\n",
              " '₹1,23,900',\n",
              " '₹58,999',\n",
              " '₹69,900',\n",
              " '₹79,899',\n",
              " '₹1,17,100',\n",
              " '₹79,899',\n",
              " '₹99,900',\n",
              " '₹92,900',\n",
              " '₹1,31,900',\n",
              " '₹75,900',\n",
              " '₹84,900',\n",
              " '₹59,999',\n",
              " '₹69,900']"
            ]
          },
          "metadata": {
            "tags": []
          },
          "execution_count": 33
        }
      ]
    },
    {
      "cell_type": "code",
      "metadata": {
        "id": "Cx3MWqFnPLnE"
      },
      "source": [
        "res={}\n",
        "for key in result['Title']:\n",
        "    for value in result['price']:\n",
        "        res[key] = value"
      ],
      "execution_count": 34,
      "outputs": []
    },
    {
      "cell_type": "code",
      "metadata": {
        "colab": {
          "base_uri": "https://localhost:8080/"
        },
        "id": "E4mUGJTNPaPM",
        "outputId": "9ecbf429-785d-4e14-c517-0a27a0c2b370"
      },
      "source": [
        "res"
      ],
      "execution_count": 35,
      "outputs": [
        {
          "output_type": "execute_result",
          "data": {
            "text/plain": [
              "{'Apple iPhone 11 Pro (64GB) - Space Grey': '₹69,900',\n",
              " 'Apple iPhone 11 Pro Max (256GB) - Gold': '₹69,900',\n",
              " 'Apple iPhone 11 Pro Max (256GB) - Midnight Green': '₹69,900',\n",
              " 'Apple iPhone 11 Pro Max (64GB) - Midnight Green': '₹69,900',\n",
              " 'New Apple iPhone 11 (128GB) - Green': '₹69,900',\n",
              " 'New Apple iPhone 11 (64GB) - Green': '₹69,900',\n",
              " 'New Apple iPhone 11 (64GB) - Yellow': '₹69,900',\n",
              " 'New Apple iPhone 12 (128GB) - Black': '₹69,900',\n",
              " 'New Apple iPhone 12 (128GB) - Blue': '₹69,900',\n",
              " 'New Apple iPhone 12 (128GB) - White': '₹69,900',\n",
              " 'New Apple iPhone 12 Mini (128GB) - Black': '₹69,900',\n",
              " 'New Apple iPhone 12 Mini (128GB) - White': '₹69,900',\n",
              " 'New Apple iPhone 12 Mini (64GB) - Black': '₹69,900',\n",
              " 'New Apple iPhone 12 Mini (64GB) - Blue': '₹69,900',\n",
              " 'New Apple iPhone 12 Mini (64GB) - White': '₹69,900',\n",
              " 'New Apple iPhone 12 Pro Max (128GB) - Pacific Blue': '₹69,900'}"
            ]
          },
          "metadata": {
            "tags": []
          },
          "execution_count": 35
        }
      ]
    }
  ]
}